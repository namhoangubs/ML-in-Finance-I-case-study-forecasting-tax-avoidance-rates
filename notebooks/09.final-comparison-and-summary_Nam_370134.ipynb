{
 "cells": [
  {
   "cell_type": "markdown",
   "metadata": {},
   "source": [
    "# Final models comparison and summary"
   ]
  },
  {
   "cell_type": "markdown",
   "metadata": {},
   "source": [
    "### Dependencies loading"
   ]
  },
  {
   "cell_type": "code",
   "execution_count": 37,
   "metadata": {
    "ExecuteTime": {
     "end_time": "2020-06-03T01:07:52.460902Z",
     "start_time": "2020-06-03T01:07:51.342841Z"
    }
   },
   "outputs": [],
   "source": [
    "import pandas as pd\n",
    "import numpy as np\n",
    "from sklearn.metrics import mean_squared_error\n",
    "from sklearn.metrics import mean_absolute_error\n",
    "import pickle\n",
    "import warnings\n",
    "import matplotlib.pyplot as plt\n",
    "import seaborn as sns\n",
    "warnings.filterwarnings('ignore')\n",
    "pd.set_option('display.max_columns', 500)\n",
    "pd.set_option('display.max_rows', 150)\n",
    "\n",
    "# np.random.seed(1916) #uncomment if you want your code to be reproducible; for the purposes of our activity, let's add some randomness to the results"
   ]
  },
  {
   "cell_type": "markdown",
   "metadata": {},
   "source": [
    "### Final models comparison"
   ]
  },
  {
   "cell_type": "markdown",
   "metadata": {},
   "source": [
    "Now we have to use our 6 models to score our test set!"
   ]
  },
  {
   "cell_type": "markdown",
   "metadata": {},
   "source": [
    "#### Naive Model"
   ]
  },
  {
   "cell_type": "markdown",
   "metadata": {},
   "source": [
    "In case of Naive Model we have already scored our test set!"
   ]
  },
  {
   "cell_type": "code",
   "execution_count": 108,
   "metadata": {
    "ExecuteTime": {
     "end_time": "2020-06-03T01:07:52.474852Z",
     "start_time": "2020-06-03T01:07:52.462860Z"
    }
   },
   "outputs": [],
   "source": [
    "naive_model_score = pd.read_csv(\"C:/Users/Lenovo/Desktop/Machine Learning 1/project 2/naive.csv\", index_col = 0)"
   ]
  },
  {
   "cell_type": "code",
   "execution_count": 109,
   "metadata": {
    "ExecuteTime": {
     "end_time": "2020-06-03T01:07:52.482849Z",
     "start_time": "2020-06-03T01:07:52.476853Z"
    }
   },
   "outputs": [],
   "source": [
    "naive_model_score.rename(index={0: 'naive_model'},inplace=True)"
   ]
  },
  {
   "cell_type": "code",
   "execution_count": 110,
   "metadata": {
    "ExecuteTime": {
     "end_time": "2020-06-03T01:07:52.496840Z",
     "start_time": "2020-06-03T01:07:52.484849Z"
    }
   },
   "outputs": [
    {
     "data": {
      "text/html": [
       "<div>\n",
       "<style scoped>\n",
       "    .dataframe tbody tr th:only-of-type {\n",
       "        vertical-align: middle;\n",
       "    }\n",
       "\n",
       "    .dataframe tbody tr th {\n",
       "        vertical-align: top;\n",
       "    }\n",
       "\n",
       "    .dataframe thead th {\n",
       "        text-align: right;\n",
       "    }\n",
       "</style>\n",
       "<table border=\"1\" class=\"dataframe\">\n",
       "  <thead>\n",
       "    <tr style=\"text-align: right;\">\n",
       "      <th></th>\n",
       "      <th>RMSE</th>\n",
       "      <th>MAE</th>\n",
       "    </tr>\n",
       "  </thead>\n",
       "  <tbody>\n",
       "    <tr>\n",
       "      <th>naive_model</th>\n",
       "      <td>0.16786</td>\n",
       "      <td>0.091059</td>\n",
       "    </tr>\n",
       "  </tbody>\n",
       "</table>\n",
       "</div>"
      ],
      "text/plain": [
       "                RMSE       MAE\n",
       "naive_model  0.16786  0.091059"
      ]
     },
     "execution_count": 110,
     "metadata": {},
     "output_type": "execute_result"
    }
   ],
   "source": [
    "naive_model_score"
   ]
  },
  {
   "cell_type": "markdown",
   "metadata": {},
   "source": [
    "#### OLS"
   ]
  },
  {
   "cell_type": "code",
   "execution_count": 111,
   "metadata": {
    "ExecuteTime": {
     "end_time": "2020-06-03T01:07:52.597800Z",
     "start_time": "2020-06-03T01:07:52.498839Z"
    }
   },
   "outputs": [],
   "source": [
    "df_train = pd.read_csv(\"C:/Users/Lenovo/Desktop/Machine Learning 1/project 2/train_fe.csv\", index_col=0)\n",
    "df_test = pd.read_csv(\"C:/Users/Lenovo/Desktop/Machine Learning 1/project 2/test_fe.csv\", index_col=0)"
   ]
  },
  {
   "cell_type": "code",
   "execution_count": 112,
   "metadata": {
    "ExecuteTime": {
     "end_time": "2020-06-03T01:07:52.603485Z",
     "start_time": "2020-06-03T01:07:52.598484Z"
    }
   },
   "outputs": [],
   "source": [
    "X = ['adv_cat_(874.5, inf]', 'diff_positive', 'str_cat_(0.0875, 0.192]', 'ta_log', 'WB_GDPpc', 'txt_cat_(0.488, 24.415]', 'txt_cat_(-34.811, 0.488]', 'gielda_2', 'ppe_clip', 'revenue_cat_(1248.817, 4233.587]', 'revenue_cat_(4233.587, inf]', 'pi_cat_(8108.5, inf]', 'revenue_cat_(0.174, 1248.817]', 'roa_clip', 'pi_cat_(-8975.0, -1.523]', 'pi_cat_(157.119, 465.9]', 'pi_cat_(465.9, 7875.5]', 'pi_cat_(-1.523, 157.119]']"
   ]
  },
  {
   "cell_type": "code",
   "execution_count": 113,
   "metadata": {
    "ExecuteTime": {
     "end_time": "2020-06-03T01:07:52.645862Z",
     "start_time": "2020-06-03T01:07:52.605485Z"
    }
   },
   "outputs": [],
   "source": [
    "model = pickle.load(open(\"C:/Users/Lenovo/Desktop/Machine Learning 1/project 2/ols.sav\", 'rb'))"
   ]
  },
  {
   "cell_type": "code",
   "execution_count": 114,
   "metadata": {
    "ExecuteTime": {
     "end_time": "2020-06-03T01:07:52.653860Z",
     "start_time": "2020-06-03T01:07:52.647863Z"
    }
   },
   "outputs": [],
   "source": [
    "y_pred = model.predict(df_test.loc[:,X].values)"
   ]
  },
  {
   "cell_type": "code",
   "execution_count": 115,
   "metadata": {
    "ExecuteTime": {
     "end_time": "2020-06-03T01:07:52.662407Z",
     "start_time": "2020-06-03T01:07:52.656409Z"
    }
   },
   "outputs": [],
   "source": [
    "y_true = df_test.etr.tolist()\n",
    "rmse = np.sqrt(mean_squared_error(y_true, y_pred))\n",
    "mae = mean_absolute_error(y_true, y_pred)\n",
    "ols_model_score = pd.DataFrame([rmse, mae]).T.rename(columns ={0:\"RMSE\", 1:\"MAE\"})"
   ]
  },
  {
   "cell_type": "code",
   "execution_count": 116,
   "metadata": {
    "ExecuteTime": {
     "end_time": "2020-06-03T01:07:53.434740Z",
     "start_time": "2020-06-03T01:07:52.663405Z"
    }
   },
   "outputs": [
    {
     "ename": "TypeError",
     "evalue": "jointplot() takes from 0 to 1 positional arguments but 2 positional arguments (and 1 keyword-only argument) were given",
     "output_type": "error",
     "traceback": [
      "\u001b[1;31m---------------------------------------------------------------------------\u001b[0m",
      "\u001b[1;31mTypeError\u001b[0m                                 Traceback (most recent call last)",
      "Cell \u001b[1;32mIn[116], line 3\u001b[0m\n\u001b[0;32m      1\u001b[0m comp \u001b[38;5;241m=\u001b[39m pd\u001b[38;5;241m.\u001b[39mDataFrame([y_pred, y_true])\u001b[38;5;241m.\u001b[39mrename({\u001b[38;5;241m0\u001b[39m:\u001b[38;5;124m\"\u001b[39m\u001b[38;5;124my_pred\u001b[39m\u001b[38;5;124m\"\u001b[39m, \u001b[38;5;241m1\u001b[39m:\u001b[38;5;124m\"\u001b[39m\u001b[38;5;124my_true\u001b[39m\u001b[38;5;124m\"\u001b[39m})\u001b[38;5;241m.\u001b[39mT\n\u001b[0;32m      2\u001b[0m plt\u001b[38;5;241m.\u001b[39mfigure(figsize\u001b[38;5;241m=\u001b[39m(\u001b[38;5;241m10\u001b[39m, \u001b[38;5;241m5\u001b[39m))\n\u001b[1;32m----> 3\u001b[0m sns\u001b[38;5;241m.\u001b[39mjointplot(comp\u001b[38;5;241m.\u001b[39my_pred, comp\u001b[38;5;241m.\u001b[39my_true, kind\u001b[38;5;241m=\u001b[39m\u001b[38;5;124m\"\u001b[39m\u001b[38;5;124mreg\u001b[39m\u001b[38;5;124m\"\u001b[39m, truncate\u001b[38;5;241m=\u001b[39m\u001b[38;5;28;01mFalse\u001b[39;00m,)\n",
      "\u001b[1;31mTypeError\u001b[0m: jointplot() takes from 0 to 1 positional arguments but 2 positional arguments (and 1 keyword-only argument) were given"
     ]
    },
    {
     "data": {
      "text/plain": [
       "<Figure size 1000x500 with 0 Axes>"
      ]
     },
     "metadata": {},
     "output_type": "display_data"
    }
   ],
   "source": [
    "comp = pd.DataFrame([y_pred, y_true]).rename({0:\"y_pred\", 1:\"y_true\"}).T\n",
    "plt.figure(figsize=(10, 5))\n",
    "sns.jointplot(comp.y_pred, comp.y_true, kind=\"reg\", truncate=False,)"
   ]
  },
  {
   "cell_type": "code",
   "execution_count": 117,
   "metadata": {
    "ExecuteTime": {
     "end_time": "2020-06-03T01:07:53.440735Z",
     "start_time": "2020-06-03T01:07:53.435738Z"
    }
   },
   "outputs": [],
   "source": [
    "ols_model_score.rename(index={0: 'ols_model'},inplace=True)"
   ]
  },
  {
   "cell_type": "code",
   "execution_count": 118,
   "metadata": {
    "ExecuteTime": {
     "end_time": "2020-06-03T01:07:53.449743Z",
     "start_time": "2020-06-03T01:07:53.442734Z"
    }
   },
   "outputs": [
    {
     "data": {
      "text/html": [
       "<div>\n",
       "<style scoped>\n",
       "    .dataframe tbody tr th:only-of-type {\n",
       "        vertical-align: middle;\n",
       "    }\n",
       "\n",
       "    .dataframe tbody tr th {\n",
       "        vertical-align: top;\n",
       "    }\n",
       "\n",
       "    .dataframe thead th {\n",
       "        text-align: right;\n",
       "    }\n",
       "</style>\n",
       "<table border=\"1\" class=\"dataframe\">\n",
       "  <thead>\n",
       "    <tr style=\"text-align: right;\">\n",
       "      <th></th>\n",
       "      <th>RMSE</th>\n",
       "      <th>MAE</th>\n",
       "    </tr>\n",
       "  </thead>\n",
       "  <tbody>\n",
       "    <tr>\n",
       "      <th>ols_model</th>\n",
       "      <td>0.085129</td>\n",
       "      <td>0.061867</td>\n",
       "    </tr>\n",
       "  </tbody>\n",
       "</table>\n",
       "</div>"
      ],
      "text/plain": [
       "               RMSE       MAE\n",
       "ols_model  0.085129  0.061867"
      ]
     },
     "execution_count": 118,
     "metadata": {},
     "output_type": "execute_result"
    }
   ],
   "source": [
    "ols_model_score"
   ]
  },
  {
   "cell_type": "markdown",
   "metadata": {},
   "source": [
    "#### ARMA"
   ]
  },
  {
   "cell_type": "markdown",
   "metadata": {},
   "source": [
    "In case of ARMA we have already scored our test set!"
   ]
  },
  {
   "cell_type": "code",
   "execution_count": 119,
   "metadata": {
    "ExecuteTime": {
     "end_time": "2020-06-03T01:07:53.458727Z",
     "start_time": "2020-06-03T01:07:53.450729Z"
    }
   },
   "outputs": [],
   "source": [
    "arma_model_score = pd.read_csv(\"C:/Users/Lenovo/Desktop/Machine Learning 1/project 2/arma.csv\", index_col = 0)"
   ]
  },
  {
   "cell_type": "code",
   "execution_count": 120,
   "metadata": {
    "ExecuteTime": {
     "end_time": "2020-06-03T01:07:53.465732Z",
     "start_time": "2020-06-03T01:07:53.460723Z"
    }
   },
   "outputs": [],
   "source": [
    "arma_model_score.rename(index={0: 'arma_model'},inplace=True)"
   ]
  },
  {
   "cell_type": "code",
   "execution_count": 121,
   "metadata": {
    "ExecuteTime": {
     "end_time": "2020-06-03T01:07:53.476716Z",
     "start_time": "2020-06-03T01:07:53.467722Z"
    }
   },
   "outputs": [
    {
     "data": {
      "text/html": [
       "<div>\n",
       "<style scoped>\n",
       "    .dataframe tbody tr th:only-of-type {\n",
       "        vertical-align: middle;\n",
       "    }\n",
       "\n",
       "    .dataframe tbody tr th {\n",
       "        vertical-align: top;\n",
       "    }\n",
       "\n",
       "    .dataframe thead th {\n",
       "        text-align: right;\n",
       "    }\n",
       "</style>\n",
       "<table border=\"1\" class=\"dataframe\">\n",
       "  <thead>\n",
       "    <tr style=\"text-align: right;\">\n",
       "      <th></th>\n",
       "      <th>RMSE</th>\n",
       "      <th>MAE</th>\n",
       "    </tr>\n",
       "  </thead>\n",
       "  <tbody>\n",
       "    <tr>\n",
       "      <th>arma_model</th>\n",
       "      <td>0.115057</td>\n",
       "      <td>0.073336</td>\n",
       "    </tr>\n",
       "  </tbody>\n",
       "</table>\n",
       "</div>"
      ],
      "text/plain": [
       "                RMSE       MAE\n",
       "arma_model  0.115057  0.073336"
      ]
     },
     "execution_count": 121,
     "metadata": {},
     "output_type": "execute_result"
    }
   ],
   "source": [
    "arma_model_score"
   ]
  },
  {
   "cell_type": "markdown",
   "metadata": {},
   "source": [
    "#### ARDL"
   ]
  },
  {
   "cell_type": "code",
   "execution_count": 122,
   "metadata": {
    "ExecuteTime": {
     "end_time": "2020-06-03T01:07:53.566680Z",
     "start_time": "2020-06-03T01:07:53.478715Z"
    }
   },
   "outputs": [],
   "source": [
    "df_train = pd.read_csv(\"C:/Users/Lenovo/Desktop/Machine Learning 1/project 2/train_fe.csv\", index_col=0)\n",
    "df_test = pd.read_csv(\"C:/Users/Lenovo/Desktop/Machine Learning 1/project 2/test_fe.csv\", index_col=0)"
   ]
  },
  {
   "cell_type": "code",
   "execution_count": 123,
   "metadata": {
    "ExecuteTime": {
     "end_time": "2020-06-03T01:07:53.570662Z",
     "start_time": "2020-06-03T01:07:53.567662Z"
    }
   },
   "outputs": [],
   "source": [
    "X = ['sale', 'cfc', 'txt_cat_(-34.811, 0.488]', 'txt_cat_(0.488, 24.415]',\n",
    "       'txt_cat_(308.55, 327.531]', 'pi_cat_(7875.5, 8108.5]',\n",
    "       'str_cat_(0.28, inf]', 'dlc_cat_(176.129, 200.9]', 'diff_positive',\n",
    "       'etr_y_ma']"
   ]
  },
  {
   "cell_type": "code",
   "execution_count": 124,
   "metadata": {
    "ExecuteTime": {
     "end_time": "2020-06-03T01:07:53.581655Z",
     "start_time": "2020-06-03T01:07:53.571661Z"
    }
   },
   "outputs": [],
   "source": [
    "model = pickle.load(open(\"C:/Users/Lenovo/Desktop/Machine Learning 1/project 2/ardl.sav\", 'rb'))"
   ]
  },
  {
   "cell_type": "code",
   "execution_count": 125,
   "metadata": {
    "ExecuteTime": {
     "end_time": "2020-06-03T01:07:53.589654Z",
     "start_time": "2020-06-03T01:07:53.583660Z"
    }
   },
   "outputs": [],
   "source": [
    "y_pred = model.predict(df_test.loc[:,X].values)"
   ]
  },
  {
   "cell_type": "code",
   "execution_count": 126,
   "metadata": {
    "ExecuteTime": {
     "end_time": "2020-06-03T01:07:53.598646Z",
     "start_time": "2020-06-03T01:07:53.590651Z"
    }
   },
   "outputs": [],
   "source": [
    "y_true = df_test.etr.tolist()\n",
    "rmse = np.sqrt(mean_squared_error(y_true, y_pred))\n",
    "mae = mean_absolute_error(y_true, y_pred)\n",
    "ardl_model_score = pd.DataFrame([rmse, mae]).T.rename(columns ={0:\"RMSE\", 1:\"MAE\"})"
   ]
  },
  {
   "cell_type": "code",
   "execution_count": 127,
   "metadata": {
    "ExecuteTime": {
     "end_time": "2020-06-03T01:07:54.446161Z",
     "start_time": "2020-06-03T01:07:53.600644Z"
    }
   },
   "outputs": [
    {
     "ename": "TypeError",
     "evalue": "jointplot() takes from 0 to 1 positional arguments but 2 positional arguments (and 1 keyword-only argument) were given",
     "output_type": "error",
     "traceback": [
      "\u001b[1;31m---------------------------------------------------------------------------\u001b[0m",
      "\u001b[1;31mTypeError\u001b[0m                                 Traceback (most recent call last)",
      "Cell \u001b[1;32mIn[127], line 3\u001b[0m\n\u001b[0;32m      1\u001b[0m comp \u001b[38;5;241m=\u001b[39m pd\u001b[38;5;241m.\u001b[39mDataFrame([y_pred, y_true])\u001b[38;5;241m.\u001b[39mrename({\u001b[38;5;241m0\u001b[39m:\u001b[38;5;124m\"\u001b[39m\u001b[38;5;124my_pred\u001b[39m\u001b[38;5;124m\"\u001b[39m, \u001b[38;5;241m1\u001b[39m:\u001b[38;5;124m\"\u001b[39m\u001b[38;5;124my_true\u001b[39m\u001b[38;5;124m\"\u001b[39m})\u001b[38;5;241m.\u001b[39mT\n\u001b[0;32m      2\u001b[0m plt\u001b[38;5;241m.\u001b[39mfigure(figsize\u001b[38;5;241m=\u001b[39m(\u001b[38;5;241m10\u001b[39m, \u001b[38;5;241m5\u001b[39m))\n\u001b[1;32m----> 3\u001b[0m sns\u001b[38;5;241m.\u001b[39mjointplot(comp\u001b[38;5;241m.\u001b[39my_pred, comp\u001b[38;5;241m.\u001b[39my_true, kind\u001b[38;5;241m=\u001b[39m\u001b[38;5;124m\"\u001b[39m\u001b[38;5;124mreg\u001b[39m\u001b[38;5;124m\"\u001b[39m, truncate\u001b[38;5;241m=\u001b[39m\u001b[38;5;28;01mFalse\u001b[39;00m,)\n",
      "\u001b[1;31mTypeError\u001b[0m: jointplot() takes from 0 to 1 positional arguments but 2 positional arguments (and 1 keyword-only argument) were given"
     ]
    },
    {
     "data": {
      "text/plain": [
       "<Figure size 1000x500 with 0 Axes>"
      ]
     },
     "metadata": {},
     "output_type": "display_data"
    }
   ],
   "source": [
    "comp = pd.DataFrame([y_pred, y_true]).rename({0:\"y_pred\", 1:\"y_true\"}).T\n",
    "plt.figure(figsize=(10, 5))\n",
    "sns.jointplot(comp.y_pred, comp.y_true, kind=\"reg\", truncate=False,)"
   ]
  },
  {
   "cell_type": "code",
   "execution_count": 128,
   "metadata": {
    "ExecuteTime": {
     "end_time": "2020-06-03T01:07:54.453156Z",
     "start_time": "2020-06-03T01:07:54.447160Z"
    }
   },
   "outputs": [],
   "source": [
    "ardl_model_score.rename(index={0: 'ardl_model'},inplace=True)"
   ]
  },
  {
   "cell_type": "code",
   "execution_count": 129,
   "metadata": {
    "ExecuteTime": {
     "end_time": "2020-06-03T01:07:54.464150Z",
     "start_time": "2020-06-03T01:07:54.456155Z"
    }
   },
   "outputs": [
    {
     "data": {
      "text/html": [
       "<div>\n",
       "<style scoped>\n",
       "    .dataframe tbody tr th:only-of-type {\n",
       "        vertical-align: middle;\n",
       "    }\n",
       "\n",
       "    .dataframe tbody tr th {\n",
       "        vertical-align: top;\n",
       "    }\n",
       "\n",
       "    .dataframe thead th {\n",
       "        text-align: right;\n",
       "    }\n",
       "</style>\n",
       "<table border=\"1\" class=\"dataframe\">\n",
       "  <thead>\n",
       "    <tr style=\"text-align: right;\">\n",
       "      <th></th>\n",
       "      <th>RMSE</th>\n",
       "      <th>MAE</th>\n",
       "    </tr>\n",
       "  </thead>\n",
       "  <tbody>\n",
       "    <tr>\n",
       "      <th>ardl_model</th>\n",
       "      <td>0.082121</td>\n",
       "      <td>0.05862</td>\n",
       "    </tr>\n",
       "  </tbody>\n",
       "</table>\n",
       "</div>"
      ],
      "text/plain": [
       "                RMSE      MAE\n",
       "ardl_model  0.082121  0.05862"
      ]
     },
     "execution_count": 129,
     "metadata": {},
     "output_type": "execute_result"
    }
   ],
   "source": [
    "ardl_model_score"
   ]
  },
  {
   "cell_type": "markdown",
   "metadata": {},
   "source": [
    "#### KNN"
   ]
  },
  {
   "cell_type": "code",
   "execution_count": 130,
   "metadata": {
    "ExecuteTime": {
     "end_time": "2020-06-03T01:07:54.561138Z",
     "start_time": "2020-06-03T01:07:54.467149Z"
    }
   },
   "outputs": [],
   "source": [
    "df_train = pd.read_csv(\"C:/Users/Lenovo/Desktop/Machine Learning 1/project 2/train_fe.csv\", index_col=0)\n",
    "df_test = pd.read_csv(\"C:/Users/Lenovo/Desktop/Machine Learning 1/project 2/test_fe.csv\", index_col=0)"
   ]
  },
  {
   "cell_type": "code",
   "execution_count": 131,
   "metadata": {
    "ExecuteTime": {
     "end_time": "2020-06-03T01:07:54.569090Z",
     "start_time": "2020-06-03T01:07:54.562094Z"
    }
   },
   "outputs": [],
   "source": [
    "X = ['ta', 'txt', 'pi', 'str', 'xrd', 'ni', 'ppent', 'intant', 'dlc', 'dltt', 'capex', 'revenue', 'cce', 'adv', 'diff', 'roa', 'lev', 'intan', 'rd', 'ppe', 'sale', 'cash_holdings', 'adv_expenditure', 'capex2', 'cfc', 'dta', 'y_v2x_polyarchy', 'WB_GDPgrowth', 'WB_GDPpc', 'WB_Inflation', 'rr_per_country', 'rr_per_sector', 'etr_y_past', 'etr_y_ma', 'diff_ma', 'roa_ma', 'lev_ma', 'intan_ma', 'ppe_ma', 'sale_ma', 'cash_holdings_ma', 'roa_past', 'lev_past', 'intan_past', 'ppe_past', 'sale_past', 'cash_holdings_past']\n",
    "standardization = ['rok', 'ta', 'txt', 'pi', 'str', 'xrd', 'ni', 'ppent', 'intant', 'dlc', 'dltt', 'capex', 'revenue', 'cce', 'adv', 'diff', 'roa', 'lev', 'intan', 'rd', 'ppe', 'sale', 'cash_holdings', 'adv_expenditure', 'capex2', 'capex2_scaled', 'y_v2x_polyarchy', 'WB_GDPgrowth', 'WB_GDPpc', 'WB_Inflation', 'rr_per_country', 'rr_per_sector', 'ta_log', 'ppent_sqrt', 'intant_sqrt', 'roa_clip', 'lev_sqrt', 'intan_pow2', 'rd_sqrt', 'ppe_clip', 'cash_holdings_sqrt', 'diff_dta', 'etr_y_past', 'etr_y_ma', 'diff_ma', 'roa_ma', 'lev_ma', 'intan_ma', 'ppe_ma', 'sale_ma', 'cash_holdings_ma', 'roa_past', 'lev_past', 'intan_past', 'ppe_past', 'sale_past', 'cash_holdings_past', 'y_e_p_polity']"
   ]
  },
  {
   "cell_type": "code",
   "execution_count": 132,
   "metadata": {
    "ExecuteTime": {
     "end_time": "2020-06-03T01:07:54.594077Z",
     "start_time": "2020-06-03T01:07:54.571089Z"
    }
   },
   "outputs": [],
   "source": [
    "scaler = pickle.load(open(\"C:/Users/Lenovo/Desktop/Machine Learning 1/project 2/minmaxscaler.sav\", 'rb'))\n",
    "df_test[standardization] = scaler.transform(df_test[standardization])"
   ]
  },
  {
   "cell_type": "code",
   "execution_count": 133,
   "metadata": {
    "ExecuteTime": {
     "end_time": "2020-06-03T01:07:54.630116Z",
     "start_time": "2020-06-03T01:07:54.595076Z"
    }
   },
   "outputs": [],
   "source": [
    "model = pickle.load(open(\"C:/Users/Lenovo/Desktop/Machine Learning 1/project 2/knn.sav\", 'rb'))"
   ]
  },
  {
   "cell_type": "code",
   "execution_count": 134,
   "metadata": {
    "ExecuteTime": {
     "end_time": "2020-06-03T01:07:54.745057Z",
     "start_time": "2020-06-03T01:07:54.631134Z"
    }
   },
   "outputs": [
    {
     "data": {
      "text/plain": [
       "array([0.15381768, 0.14548521, 0.36528674, 0.16766692, 0.18747688,\n",
       "       0.20035358, 0.19752034, 0.20237613, 0.39314654, 0.19300135,\n",
       "       0.33345822, 0.3296713 , 0.28701783, 0.09736033, 0.26823414,\n",
       "       0.28654306, 0.3241411 , 0.30037981, 0.29695114, 0.47406234,\n",
       "       0.07206431, 0.17674928, 0.09264793, 0.12225917, 0.18816236,\n",
       "       0.20352299, 0.10736068, 0.12256565, 0.17945494, 0.34148471,\n",
       "       0.18061057, 0.33542907, 0.09570639, 0.15555886, 0.2491224 ,\n",
       "       0.3027646 , 0.49428015, 0.19197748, 0.232559  , 0.18817675,\n",
       "       0.28471094, 0.21752146, 0.19842386, 0.17789764, 0.17756358,\n",
       "       0.29387459, 0.34024142, 0.10459147, 0.20729895, 0.33207707,\n",
       "       0.3157007 , 0.28489943, 0.27884077, 0.25935849, 0.39578361,\n",
       "       0.23638513, 0.18821065, 0.19634532, 0.16314053, 0.20292084,\n",
       "       0.16481602, 0.22349722, 0.16935729, 0.3275025 , 0.16886608,\n",
       "       0.23720305, 0.18902764, 0.15396119, 0.11922853, 0.11875531,\n",
       "       0.18391152, 0.30255954, 0.23092748, 0.20505301, 0.47802297,\n",
       "       0.2515267 , 0.27837047, 0.12142858, 0.25085466, 0.32333166,\n",
       "       0.23993651, 0.22868764, 0.19852078, 0.24683647, 0.18823217,\n",
       "       0.18845025, 0.20727973, 0.31297619, 0.18101119, 0.1259671 ,\n",
       "       0.22724882, 0.19294231, 0.16177051, 0.23802824, 0.33692027,\n",
       "       0.26897055, 0.30094234, 0.11604945, 0.15199441, 0.09290499,\n",
       "       0.18943109, 0.27839186, 0.22283845, 0.34054318, 0.30612457,\n",
       "       0.22757669, 0.20530049, 0.2408683 , 0.15041859, 0.06186377,\n",
       "       0.22315303, 0.10201717, 0.25134415, 0.29924873, 0.11571679,\n",
       "       0.22610221, 0.18190789, 0.12782156, 0.18369807, 0.27909835,\n",
       "       0.29114281, 0.31176189, 0.07333141, 0.41589569, 0.29377591,\n",
       "       0.18465246, 0.29835109, 0.29462152, 0.50080183, 0.1950009 ,\n",
       "       0.18899837, 0.07198039, 0.20448726, 0.29450091, 0.07940404,\n",
       "       0.27643104, 0.19551233, 0.15922736, 0.21489708, 0.15225272,\n",
       "       0.26550151, 0.31422509, 0.22585485, 0.23981506, 0.16848746,\n",
       "       0.21509796, 0.09377868, 0.26487638, 0.22171654, 0.15555886,\n",
       "       0.18621881, 0.21307157, 0.14466938, 0.21764735, 0.2159768 ,\n",
       "       0.19143015, 0.16935729, 0.16425134, 0.1304541 , 0.18139306,\n",
       "       0.20350628, 0.2048803 , 0.22402393, 0.19510288, 0.26572594,\n",
       "       0.11822916, 0.24054298, 0.17026911, 0.25247218, 0.12733769,\n",
       "       0.1870775 , 0.1627098 , 0.15243875, 0.18676577, 0.26191625,\n",
       "       0.19857048, 0.18747688, 0.1755704 , 0.20468616, 0.11866484,\n",
       "       0.20014053, 0.18565082, 0.19238861, 0.17374401, 0.14988132,\n",
       "       0.25110298, 0.20348285, 0.29490584, 0.28296548, 0.38636937,\n",
       "       0.17097647, 0.27610024, 0.16616945, 0.20020503, 0.23618658,\n",
       "       0.20809918, 0.24325753, 0.24745565, 0.21191072, 0.11967251,\n",
       "       0.20271619, 0.11355904, 0.16112951, 0.17778181, 0.151885  ,\n",
       "       0.34656238, 0.16975455, 0.08171024, 0.17191227, 0.16345916,\n",
       "       0.17014456, 0.15475025, 0.13501531, 0.07319452, 0.16823749,\n",
       "       0.25615516, 0.20105805, 0.24742267, 0.17369064, 0.18201256,\n",
       "       0.18610441, 0.10385156, 0.23232894, 0.1915597 , 0.14790175,\n",
       "       0.16022647, 0.15063487, 0.22428585, 0.51493841, 0.19502455,\n",
       "       0.33789309, 0.25735893, 0.23594661, 0.3963207 , 0.18676577,\n",
       "       0.17052391, 0.32107544, 0.19274313, 0.07553191, 0.19806682,\n",
       "       0.21782048, 0.17756358, 0.13139071, 0.25963544, 0.13892285,\n",
       "       0.16686279, 0.09328735, 0.13718882, 0.18717634, 0.14362619,\n",
       "       0.24214786, 0.24317313, 0.18488808, 0.39166614, 0.14196476,\n",
       "       0.23732417, 0.15959826, 0.30090975, 0.19842386, 0.17102237,\n",
       "       0.0309326 , 0.19335504, 0.33561554, 0.18150763, 0.21516402,\n",
       "       0.16598222, 0.20515677, 0.21024618, 0.22610221, 0.26800347,\n",
       "       0.24934094, 0.19037774, 0.31918154, 0.48120488, 0.2048809 ,\n",
       "       0.33555227, 0.20549056, 0.15623941, 0.21749577, 0.20523831,\n",
       "       0.4245338 , 0.30166619, 0.21610265, 0.13970424, 0.11592702,\n",
       "       0.54156693, 0.16693284, 0.25276812, 0.01692344, 0.09284098,\n",
       "       0.3038408 , 0.23646957, 0.1865952 , 0.25567003, 0.35216417,\n",
       "       0.31577708, 0.30461936, 0.26386839, 0.14305457, 0.29260565,\n",
       "       0.23720305, 0.15952281, 0.23228443, 0.23412949, 0.23983419,\n",
       "       0.30722204, 0.29975218, 0.14172476, 0.1917951 , 0.27602443,\n",
       "       0.13407778, 0.1545106 , 0.14205554, 0.19982116, 0.16967109,\n",
       "       0.24540685, 0.33608201, 0.08534736, 0.30010711, 0.29375048,\n",
       "       0.14167822, 0.31984168, 0.23500218, 0.05844867, 0.21177546,\n",
       "       0.13509146, 0.21662008, 0.23600769, 0.12225917, 0.32265809,\n",
       "       0.20082955, 0.24907438, 0.20183746, 0.31425797, 0.19274326,\n",
       "       0.26170604, 0.21752146, 0.19740838, 0.19142654, 0.2515651 ,\n",
       "       0.42435765, 0.05661228, 0.24205835, 0.13367573, 0.47200433,\n",
       "       0.20660479, 0.12225917, 0.21090781, 0.2265649 , 0.33345822,\n",
       "       0.        , 0.36176899, 0.2942728 , 0.21135162, 0.16470807,\n",
       "       0.20906954, 0.11314665, 0.17364527, 0.22174739, 0.10114152,\n",
       "       0.34650484, 0.18327873, 0.21966897])"
      ]
     },
     "execution_count": 134,
     "metadata": {},
     "output_type": "execute_result"
    }
   ],
   "source": [
    "y_pred = model.predict(df_test.loc[:,X].values)\n",
    "y_pred"
   ]
  },
  {
   "cell_type": "code",
   "execution_count": 135,
   "metadata": {
    "ExecuteTime": {
     "end_time": "2020-06-03T01:07:54.755049Z",
     "start_time": "2020-06-03T01:07:54.747054Z"
    }
   },
   "outputs": [],
   "source": [
    "y_true = df_test.etr.tolist()\n",
    "rmse = np.sqrt(mean_squared_error(y_true, y_pred))\n",
    "mae = mean_absolute_error(y_true, y_pred)\n",
    "knn_model_score = pd.DataFrame([rmse, mae]).T.rename(columns ={0:\"RMSE\", 1:\"MAE\"})"
   ]
  },
  {
   "cell_type": "code",
   "execution_count": 136,
   "metadata": {
    "ExecuteTime": {
     "end_time": "2020-06-03T01:07:55.588934Z",
     "start_time": "2020-06-03T01:07:54.756049Z"
    }
   },
   "outputs": [
    {
     "ename": "TypeError",
     "evalue": "jointplot() takes from 0 to 1 positional arguments but 2 positional arguments (and 1 keyword-only argument) were given",
     "output_type": "error",
     "traceback": [
      "\u001b[1;31m---------------------------------------------------------------------------\u001b[0m",
      "\u001b[1;31mTypeError\u001b[0m                                 Traceback (most recent call last)",
      "Cell \u001b[1;32mIn[136], line 3\u001b[0m\n\u001b[0;32m      1\u001b[0m comp \u001b[38;5;241m=\u001b[39m pd\u001b[38;5;241m.\u001b[39mDataFrame([y_pred, y_true])\u001b[38;5;241m.\u001b[39mrename({\u001b[38;5;241m0\u001b[39m:\u001b[38;5;124m\"\u001b[39m\u001b[38;5;124my_pred\u001b[39m\u001b[38;5;124m\"\u001b[39m, \u001b[38;5;241m1\u001b[39m:\u001b[38;5;124m\"\u001b[39m\u001b[38;5;124my_true\u001b[39m\u001b[38;5;124m\"\u001b[39m})\u001b[38;5;241m.\u001b[39mT\n\u001b[0;32m      2\u001b[0m plt\u001b[38;5;241m.\u001b[39mfigure(figsize\u001b[38;5;241m=\u001b[39m(\u001b[38;5;241m10\u001b[39m, \u001b[38;5;241m5\u001b[39m))\n\u001b[1;32m----> 3\u001b[0m sns\u001b[38;5;241m.\u001b[39mjointplot(comp\u001b[38;5;241m.\u001b[39my_pred, comp\u001b[38;5;241m.\u001b[39my_true, kind\u001b[38;5;241m=\u001b[39m\u001b[38;5;124m\"\u001b[39m\u001b[38;5;124mreg\u001b[39m\u001b[38;5;124m\"\u001b[39m, truncate\u001b[38;5;241m=\u001b[39m\u001b[38;5;28;01mFalse\u001b[39;00m,)\n",
      "\u001b[1;31mTypeError\u001b[0m: jointplot() takes from 0 to 1 positional arguments but 2 positional arguments (and 1 keyword-only argument) were given"
     ]
    },
    {
     "data": {
      "text/plain": [
       "<Figure size 1000x500 with 0 Axes>"
      ]
     },
     "metadata": {},
     "output_type": "display_data"
    }
   ],
   "source": [
    "comp = pd.DataFrame([y_pred, y_true]).rename({0:\"y_pred\", 1:\"y_true\"}).T\n",
    "plt.figure(figsize=(10, 5))\n",
    "sns.jointplot(comp.y_pred, comp.y_true, kind=\"reg\", truncate=False,)"
   ]
  },
  {
   "cell_type": "code",
   "execution_count": 137,
   "metadata": {
    "ExecuteTime": {
     "end_time": "2020-06-03T01:07:55.594930Z",
     "start_time": "2020-06-03T01:07:55.589934Z"
    }
   },
   "outputs": [],
   "source": [
    "knn_model_score.rename(index={0: 'knn_model'},inplace=True)"
   ]
  },
  {
   "cell_type": "code",
   "execution_count": 138,
   "metadata": {
    "ExecuteTime": {
     "end_time": "2020-06-03T01:07:55.603926Z",
     "start_time": "2020-06-03T01:07:55.595930Z"
    }
   },
   "outputs": [
    {
     "data": {
      "text/html": [
       "<div>\n",
       "<style scoped>\n",
       "    .dataframe tbody tr th:only-of-type {\n",
       "        vertical-align: middle;\n",
       "    }\n",
       "\n",
       "    .dataframe tbody tr th {\n",
       "        vertical-align: top;\n",
       "    }\n",
       "\n",
       "    .dataframe thead th {\n",
       "        text-align: right;\n",
       "    }\n",
       "</style>\n",
       "<table border=\"1\" class=\"dataframe\">\n",
       "  <thead>\n",
       "    <tr style=\"text-align: right;\">\n",
       "      <th></th>\n",
       "      <th>RMSE</th>\n",
       "      <th>MAE</th>\n",
       "    </tr>\n",
       "  </thead>\n",
       "  <tbody>\n",
       "    <tr>\n",
       "      <th>knn_model</th>\n",
       "      <td>0.094528</td>\n",
       "      <td>0.06713</td>\n",
       "    </tr>\n",
       "  </tbody>\n",
       "</table>\n",
       "</div>"
      ],
      "text/plain": [
       "               RMSE      MAE\n",
       "knn_model  0.094528  0.06713"
      ]
     },
     "execution_count": 138,
     "metadata": {},
     "output_type": "execute_result"
    }
   ],
   "source": [
    "knn_model_score"
   ]
  },
  {
   "cell_type": "markdown",
   "metadata": {},
   "source": [
    "#### SVR"
   ]
  },
  {
   "cell_type": "code",
   "execution_count": 139,
   "metadata": {
    "ExecuteTime": {
     "end_time": "2020-06-03T01:07:55.696911Z",
     "start_time": "2020-06-03T01:07:55.605928Z"
    }
   },
   "outputs": [],
   "source": [
    "df_train = pd.read_csv(\"C:/Users/Lenovo/Desktop/Machine Learning 1/project 2/train_fe.csv\", index_col=0)\n",
    "df_test = pd.read_csv(\"C:/Users/Lenovo/Desktop/Machine Learning 1/project 2/test_fe.csv\", index_col=0)"
   ]
  },
  {
   "cell_type": "code",
   "execution_count": 140,
   "metadata": {
    "ExecuteTime": {
     "end_time": "2020-06-03T01:07:55.704910Z",
     "start_time": "2020-06-03T01:07:55.697913Z"
    }
   },
   "outputs": [],
   "source": [
    "X = ['ta', 'pi', 'str', 'xrd', 'dlc', 'capex', 'revenue', 'cce', 'diff', 'sale', 'cash_holdings', 'capex2', 'cfc', 'capex2_scaled', 'WB_GDPpc', 'rr_per_country', 'rr_per_sector', 'sektor_consumer discretionary', 'sektor_consumer staples', 'sektor_energy', 'sektor_health care', 'sektor_industrials', 'sektor_materials', 'sektor_real estate', 'gielda_2', 'gielda_3', 'xrd_exists', 'ni_profit', 'ni_profit_20000', 'diff_positive', 'lev_sqrt', 'etr_y_ma', 'lev_ma', 'lev_past', 'sale_past', 'cash_holdings_past']\n",
    "standardization = ['rok', 'ta', 'txt', 'pi', 'str', 'xrd', 'ni', 'ppent', 'intant', 'dlc', 'dltt', 'capex', 'revenue', 'cce', 'adv', 'diff', 'roa', 'lev', 'intan', 'rd', 'ppe', 'sale', 'cash_holdings', 'adv_expenditure', 'capex2', 'capex2_scaled', 'y_v2x_polyarchy', 'WB_GDPgrowth', 'WB_GDPpc', 'WB_Inflation', 'rr_per_country', 'rr_per_sector', 'ta_log', 'ppent_sqrt', 'intant_sqrt', 'roa_clip', 'lev_sqrt', 'intan_pow2', 'rd_sqrt', 'ppe_clip', 'cash_holdings_sqrt', 'diff_dta', 'etr_y_past', 'etr_y_ma', 'diff_ma', 'roa_ma', 'lev_ma', 'intan_ma', 'ppe_ma', 'sale_ma', 'cash_holdings_ma', 'roa_past', 'lev_past', 'intan_past', 'ppe_past', 'sale_past', 'cash_holdings_past', 'y_e_p_polity']"
   ]
  },
  {
   "cell_type": "code",
   "execution_count": 141,
   "metadata": {
    "ExecuteTime": {
     "end_time": "2020-06-03T01:07:55.730910Z",
     "start_time": "2020-06-03T01:07:55.706909Z"
    }
   },
   "outputs": [],
   "source": [
    "scaler = pickle.load(open(\"C:/Users/Lenovo/Desktop/Machine Learning 1/project 2/standardscaler.sav\", 'rb'))\n",
    "df_test[standardization] = scaler.transform(df_test[standardization])"
   ]
  },
  {
   "cell_type": "code",
   "execution_count": 142,
   "metadata": {
    "ExecuteTime": {
     "end_time": "2020-06-03T01:07:55.744888Z",
     "start_time": "2020-06-03T01:07:55.732894Z"
    }
   },
   "outputs": [],
   "source": [
    "model = pickle.load(open(\"C:/Users/Lenovo/Desktop/Machine Learning 1/project 2/svr.sav\", 'rb'))"
   ]
  },
  {
   "cell_type": "code",
   "execution_count": 143,
   "metadata": {
    "ExecuteTime": {
     "end_time": "2020-06-03T01:07:55.763879Z",
     "start_time": "2020-06-03T01:07:55.746886Z"
    }
   },
   "outputs": [
    {
     "data": {
      "text/plain": [
       "array([0.17668105, 0.1099839 , 0.19304401, 0.18393249, 0.19956444,\n",
       "       0.19588916, 0.23362412, 0.18286352, 0.2050993 , 0.19317103,\n",
       "       0.19680466, 0.27142436, 0.25481426, 0.08991978, 0.23206738,\n",
       "       0.21523407, 0.12471224, 0.1818117 , 0.25002289, 0.27866626,\n",
       "       0.12881545, 0.17518477, 0.14087601, 0.12158173, 0.15920239,\n",
       "       0.15542808, 0.09699669, 0.14030866, 0.14925602, 0.19346497,\n",
       "       0.14779996, 0.13267745, 0.21127354, 0.23372432, 0.18853288,\n",
       "       0.24154894, 0.28958016, 0.15617395, 0.23073439, 0.22204603,\n",
       "       0.24825327, 0.19117821, 0.20221433, 0.17860313, 0.14787615,\n",
       "       0.18415523, 0.19759424, 0.1126661 , 0.22524472, 0.21071615,\n",
       "       0.24480682, 0.27060168, 0.23109595, 0.23829986, 0.20059204,\n",
       "       0.2212357 , 0.13525849, 0.18045631, 0.18470494, 0.19476799,\n",
       "       0.18412958, 0.15269507, 0.16928199, 0.20976837, 0.23642029,\n",
       "       0.21593193, 0.15305128, 0.1775398 , 0.10214891, 0.10630933,\n",
       "       0.18459002, 0.26944224, 0.20505515, 0.20107556, 0.2287664 ,\n",
       "       0.2499832 , 0.22646536, 0.10881048, 0.23023825, 0.24741975,\n",
       "       0.20449096, 0.14115523, 0.1864712 , 0.20820783, 0.12892325,\n",
       "       0.18682276, 0.17981934, 0.25402941, 0.17461837, 0.1460191 ,\n",
       "       0.18430757, 0.1657084 , 0.20751776, 0.26846529, 0.23408569,\n",
       "       0.2494607 , 0.10177773, 0.11968571, 0.12296714, 0.13278495,\n",
       "       0.16812915, 0.23423105, 0.1868072 , 0.1112168 , 0.26372476,\n",
       "       0.14316654, 0.1752285 , 0.20829375, 0.17536785, 0.13428386,\n",
       "       0.18870103, 0.15132213, 0.20439114, 0.25959271, 0.16224511,\n",
       "       0.20048077, 0.18777768, 0.21076366, 0.1139938 , 0.26328613,\n",
       "       0.25072126, 0.26036804, 0.16779618, 0.19788209, 0.2506485 ,\n",
       "       0.20391741, 0.22775126, 0.24627496, 0.30498621, 0.17106943,\n",
       "       0.18594546, 0.17159348, 0.18028057, 0.24132125, 0.11753832,\n",
       "       0.2241463 , 0.15862335, 0.18063239, 0.2223949 , 0.17931603,\n",
       "       0.23343897, 0.24539725, 0.2234664 , 0.28069043, 0.18994213,\n",
       "       0.19101887, 0.13278326, 0.22798838, 0.19014359, 0.19807069,\n",
       "       0.1654561 , 0.19148373, 0.15018093, 0.14750231, 0.18756637,\n",
       "       0.17686714, 0.1549159 , 0.14010176, 0.1661021 , 0.16493018,\n",
       "       0.18734417, 0.17516198, 0.17968779, 0.18714035, 0.26047487,\n",
       "       0.1195935 , 0.21143986, 0.17099562, 0.24056797, 0.10483419,\n",
       "       0.19127115, 0.11383418, 0.18177691, 0.16652854, 0.2382338 ,\n",
       "       0.18134216, 0.17826872, 0.18087648, 0.16074139, 0.1610245 ,\n",
       "       0.18009666, 0.1788326 , 0.10976515, 0.15119889, 0.15363726,\n",
       "       0.19101019, 0.19101705, 0.21445585, 0.20266713, 0.17935112,\n",
       "       0.14474245, 0.24440936, 0.15902027, 0.16350638, 0.17520441,\n",
       "       0.14531744, 0.18917129, 0.21156936, 0.1277125 , 0.14327287,\n",
       "       0.22981115, 0.14107085, 0.1621147 , 0.14595753, 0.19125027,\n",
       "       0.27696703, 0.14215964, 0.13105107, 0.18591714, 0.13881415,\n",
       "       0.18617808, 0.1645296 , 0.1216828 , 0.14292108, 0.22049872,\n",
       "       0.2404939 , 0.1739807 , 0.23240682, 0.24630137, 0.19392333,\n",
       "       0.18644881, 0.1230744 , 0.22942744, 0.17340565, 0.15314218,\n",
       "       0.14839905, 0.11488119, 0.20902062, 0.26727842, 0.19191489,\n",
       "       0.19075427, 0.21016937, 0.19881913, 0.24262573, 0.16026528,\n",
       "       0.17761252, 0.23883313, 0.10340859, 0.15625149, 0.16080506,\n",
       "       0.22002563, 0.15015736, 0.10849405, 0.21160132, 0.11688599,\n",
       "       0.24552206, 0.11223879, 0.194554  , 0.10688047, 0.17203101,\n",
       "       0.1642384 , 0.21478775, 0.12801388, 0.2631353 , 0.16624886,\n",
       "       0.20476751, 0.18923776, 0.22518753, 0.19854353, 0.15343249,\n",
       "       0.09976423, 0.17596909, 0.24342466, 0.17727832, 0.16800919,\n",
       "       0.14959104, 0.16532247, 0.20560222, 0.19707655, 0.24763741,\n",
       "       0.20940218, 0.20026812, 0.19117289, 0.29306591, 0.21932186,\n",
       "       0.26203713, 0.20749856, 0.1199203 , 0.19593607, 0.20564616,\n",
       "       0.28127527, 0.25532281, 0.17381659, 0.142074  , 0.12539035,\n",
       "       0.24602089, 0.21218789, 0.23068012, 0.12442401, 0.15797892,\n",
       "       0.22587708, 0.17583722, 0.20748147, 0.22298297, 0.26205161,\n",
       "       0.27048398, 0.23353836, 0.22438062, 0.14997789, 0.20579545,\n",
       "       0.18462426, 0.19813712, 0.21038869, 0.17987636, 0.19087889,\n",
       "       0.14059419, 0.25209092, 0.15596594, 0.15257416, 0.24110961,\n",
       "       0.1881272 , 0.12081566, 0.0979401 , 0.16646233, 0.15595284,\n",
       "       0.24099052, 0.23434467, 0.15765983, 0.26919184, 0.22549182,\n",
       "       0.16945011, 0.14161717, 0.16045087, 0.11573255, 0.17504116,\n",
       "       0.14109464, 0.19270582, 0.18148496, 0.10107104, 0.17792858,\n",
       "       0.15928839, 0.21761632, 0.2024639 , 0.25319346, 0.20282224,\n",
       "       0.22556972, 0.18787269, 0.18842801, 0.17975306, 0.19772073,\n",
       "       0.27049414, 0.1868899 , 0.17229299, 0.11339157, 0.23851715,\n",
       "       0.279221  , 0.11162282, 0.19319169, 0.18441094, 0.18130559,\n",
       "       0.13230494, 0.25263737, 0.25929709, 0.2483883 , 0.16889321,\n",
       "       0.16397854, 0.18539708, 0.21026534, 0.13694838, 0.13469359,\n",
       "       0.20944456, 0.11146354, 0.16309084])"
      ]
     },
     "execution_count": 143,
     "metadata": {},
     "output_type": "execute_result"
    }
   ],
   "source": [
    "y_pred = model.predict(df_test.loc[:,X].values)\n",
    "y_pred"
   ]
  },
  {
   "cell_type": "code",
   "execution_count": 144,
   "metadata": {
    "ExecuteTime": {
     "end_time": "2020-06-03T01:07:55.771872Z",
     "start_time": "2020-06-03T01:07:55.764876Z"
    }
   },
   "outputs": [],
   "source": [
    "y_true = df_test.etr.tolist()\n",
    "rmse = np.sqrt(mean_squared_error(y_true, y_pred))\n",
    "mae = mean_absolute_error(y_true, y_pred)\n",
    "svr_model_score = pd.DataFrame([rmse, mae]).T.rename(columns ={0:\"RMSE\", 1:\"MAE\"})"
   ]
  },
  {
   "cell_type": "code",
   "execution_count": 145,
   "metadata": {},
   "outputs": [
    {
     "data": {
      "text/html": [
       "<div>\n",
       "<style scoped>\n",
       "    .dataframe tbody tr th:only-of-type {\n",
       "        vertical-align: middle;\n",
       "    }\n",
       "\n",
       "    .dataframe tbody tr th {\n",
       "        vertical-align: top;\n",
       "    }\n",
       "\n",
       "    .dataframe thead th {\n",
       "        text-align: right;\n",
       "    }\n",
       "</style>\n",
       "<table border=\"1\" class=\"dataframe\">\n",
       "  <thead>\n",
       "    <tr style=\"text-align: right;\">\n",
       "      <th></th>\n",
       "      <th>y_pred</th>\n",
       "      <th>y_true</th>\n",
       "    </tr>\n",
       "  </thead>\n",
       "  <tbody>\n",
       "    <tr>\n",
       "      <th>0</th>\n",
       "      <td>0.153818</td>\n",
       "      <td>0.214678</td>\n",
       "    </tr>\n",
       "    <tr>\n",
       "      <th>1</th>\n",
       "      <td>0.145485</td>\n",
       "      <td>0.169561</td>\n",
       "    </tr>\n",
       "    <tr>\n",
       "      <th>2</th>\n",
       "      <td>0.365287</td>\n",
       "      <td>0.138719</td>\n",
       "    </tr>\n",
       "    <tr>\n",
       "      <th>3</th>\n",
       "      <td>0.167667</td>\n",
       "      <td>0.262670</td>\n",
       "    </tr>\n",
       "    <tr>\n",
       "      <th>4</th>\n",
       "      <td>0.187477</td>\n",
       "      <td>0.451843</td>\n",
       "    </tr>\n",
       "    <tr>\n",
       "      <th>...</th>\n",
       "      <td>...</td>\n",
       "      <td>...</td>\n",
       "    </tr>\n",
       "    <tr>\n",
       "      <th>358</th>\n",
       "      <td>0.221747</td>\n",
       "      <td>0.262860</td>\n",
       "    </tr>\n",
       "    <tr>\n",
       "      <th>359</th>\n",
       "      <td>0.101142</td>\n",
       "      <td>0.057970</td>\n",
       "    </tr>\n",
       "    <tr>\n",
       "      <th>360</th>\n",
       "      <td>0.346505</td>\n",
       "      <td>0.420331</td>\n",
       "    </tr>\n",
       "    <tr>\n",
       "      <th>361</th>\n",
       "      <td>0.183279</td>\n",
       "      <td>0.290330</td>\n",
       "    </tr>\n",
       "    <tr>\n",
       "      <th>362</th>\n",
       "      <td>0.219669</td>\n",
       "      <td>0.278909</td>\n",
       "    </tr>\n",
       "  </tbody>\n",
       "</table>\n",
       "<p>363 rows × 2 columns</p>\n",
       "</div>"
      ],
      "text/plain": [
       "       y_pred    y_true\n",
       "0    0.153818  0.214678\n",
       "1    0.145485  0.169561\n",
       "2    0.365287  0.138719\n",
       "3    0.167667  0.262670\n",
       "4    0.187477  0.451843\n",
       "..        ...       ...\n",
       "358  0.221747  0.262860\n",
       "359  0.101142  0.057970\n",
       "360  0.346505  0.420331\n",
       "361  0.183279  0.290330\n",
       "362  0.219669  0.278909\n",
       "\n",
       "[363 rows x 2 columns]"
      ]
     },
     "execution_count": 145,
     "metadata": {},
     "output_type": "execute_result"
    }
   ],
   "source": [
    "comp"
   ]
  },
  {
   "cell_type": "code",
   "execution_count": 146,
   "metadata": {
    "ExecuteTime": {
     "end_time": "2020-06-03T01:07:56.548128Z",
     "start_time": "2020-06-03T01:07:55.772872Z"
    }
   },
   "outputs": [
    {
     "ename": "TypeError",
     "evalue": "jointplot() takes from 0 to 1 positional arguments but 2 positional arguments (and 1 keyword-only argument) were given",
     "output_type": "error",
     "traceback": [
      "\u001b[1;31m---------------------------------------------------------------------------\u001b[0m",
      "\u001b[1;31mTypeError\u001b[0m                                 Traceback (most recent call last)",
      "Cell \u001b[1;32mIn[146], line 3\u001b[0m\n\u001b[0;32m      1\u001b[0m comp \u001b[38;5;241m=\u001b[39m pd\u001b[38;5;241m.\u001b[39mDataFrame([y_pred, y_true])\u001b[38;5;241m.\u001b[39mrename({\u001b[38;5;241m0\u001b[39m:\u001b[38;5;124m\"\u001b[39m\u001b[38;5;124my_pred\u001b[39m\u001b[38;5;124m\"\u001b[39m, \u001b[38;5;241m1\u001b[39m:\u001b[38;5;124m\"\u001b[39m\u001b[38;5;124my_true\u001b[39m\u001b[38;5;124m\"\u001b[39m})\u001b[38;5;241m.\u001b[39mT\n\u001b[0;32m      2\u001b[0m plt\u001b[38;5;241m.\u001b[39mfigure(figsize\u001b[38;5;241m=\u001b[39m(\u001b[38;5;241m10\u001b[39m, \u001b[38;5;241m5\u001b[39m))\n\u001b[1;32m----> 3\u001b[0m sns\u001b[38;5;241m.\u001b[39mjointplot(comp\u001b[38;5;241m.\u001b[39my_pred, comp\u001b[38;5;241m.\u001b[39my_true, kind\u001b[38;5;241m=\u001b[39m\u001b[38;5;124m\"\u001b[39m\u001b[38;5;124mreg\u001b[39m\u001b[38;5;124m\"\u001b[39m, truncate\u001b[38;5;241m=\u001b[39m\u001b[38;5;28;01mFalse\u001b[39;00m,)\n",
      "\u001b[1;31mTypeError\u001b[0m: jointplot() takes from 0 to 1 positional arguments but 2 positional arguments (and 1 keyword-only argument) were given"
     ]
    },
    {
     "data": {
      "text/plain": [
       "<Figure size 1000x500 with 0 Axes>"
      ]
     },
     "metadata": {},
     "output_type": "display_data"
    }
   ],
   "source": [
    "comp = pd.DataFrame([y_pred, y_true]).rename({0:\"y_pred\", 1:\"y_true\"}).T\n",
    "plt.figure(figsize=(10, 5))\n",
    "sns.jointplot(comp.y_pred, comp.y_true, kind=\"reg\", truncate=False,)"
   ]
  },
  {
   "cell_type": "code",
   "execution_count": 147,
   "metadata": {
    "ExecuteTime": {
     "end_time": "2020-06-03T01:07:56.553118Z",
     "start_time": "2020-06-03T01:07:56.549113Z"
    }
   },
   "outputs": [],
   "source": [
    "svr_model_score.rename(index={0: 'svr_model'},inplace=True)"
   ]
  },
  {
   "cell_type": "code",
   "execution_count": 148,
   "metadata": {
    "ExecuteTime": {
     "end_time": "2020-06-03T01:07:56.562108Z",
     "start_time": "2020-06-03T01:07:56.554110Z"
    }
   },
   "outputs": [
    {
     "data": {
      "text/html": [
       "<div>\n",
       "<style scoped>\n",
       "    .dataframe tbody tr th:only-of-type {\n",
       "        vertical-align: middle;\n",
       "    }\n",
       "\n",
       "    .dataframe tbody tr th {\n",
       "        vertical-align: top;\n",
       "    }\n",
       "\n",
       "    .dataframe thead th {\n",
       "        text-align: right;\n",
       "    }\n",
       "</style>\n",
       "<table border=\"1\" class=\"dataframe\">\n",
       "  <thead>\n",
       "    <tr style=\"text-align: right;\">\n",
       "      <th></th>\n",
       "      <th>RMSE</th>\n",
       "      <th>MAE</th>\n",
       "    </tr>\n",
       "  </thead>\n",
       "  <tbody>\n",
       "    <tr>\n",
       "      <th>svr_model</th>\n",
       "      <td>0.084485</td>\n",
       "      <td>0.061772</td>\n",
       "    </tr>\n",
       "  </tbody>\n",
       "</table>\n",
       "</div>"
      ],
      "text/plain": [
       "               RMSE       MAE\n",
       "svr_model  0.084485  0.061772"
      ]
     },
     "execution_count": 148,
     "metadata": {},
     "output_type": "execute_result"
    }
   ],
   "source": [
    "svr_model_score"
   ]
  },
  {
   "cell_type": "markdown",
   "metadata": {},
   "source": [
    "#### Random Forest"
   ]
  },
  {
   "cell_type": "code",
   "execution_count": 176,
   "metadata": {},
   "outputs": [],
   "source": [
    "df_train = pd.read_csv(\"C:/Users/Lenovo/Desktop/Machine Learning 1/project 2/train_fe.csv\", index_col=0)\n",
    "df_test = pd.read_csv(\"C:/Users/Lenovo/Desktop/Machine Learning 1/project 2/test_fe.csv\", index_col=0)"
   ]
  },
  {
   "cell_type": "code",
   "execution_count": 177,
   "metadata": {},
   "outputs": [],
   "source": [
    "df_train.rename(columns={\"txt_cat_(-63.011, -34.811]\": 'txt_cat_1',\n",
    "                   \"txt_cat_(-34.811, 0.488]\": 'txt_cat_2',\n",
    "                   \"txt_cat_(0.488, 24.415]\": 'txt_cat_3',\n",
    "                   \"txt_cat_(24.415, 25.05]\": 'txt_cat_4',\n",
    "                   \"txt_cat_(25.05, 308.55]\": 'txt_cat_5',\n",
    "                   \"txt_cat_(308.55, 327.531]\": 'txt_cat_6',\n",
    "                   \"txt_cat_(327.531, inf]\": 'txt_cat_7',\n",
    "                   \"pi_cat_(-8975.0, -1.523]\": 'pi_cat_1',\n",
    "                   \"pi_cat_(-1.523, 157.119]\": 'pi_cat_2',\n",
    "                   \"pi_cat_(157.119, 465.9]\": 'pi_cat_3',\n",
    "                   \"pi_cat_(465.9, 7875.5]\": 'pi_cat_4',\n",
    "                   \"pi_cat_(7875.5, 8108.5]\": 'pi_cat_5',\n",
    "                   \"pi_cat_(8108.5, inf]\": 'pi_cat_6',\n",
    "                   \"str_cat_(0.0875, 0.192]\": 'str_cat_1',\n",
    "                   \"str_cat_(0.192, 0.28]\": 'str_cat_2',\n",
    "                   \"str_cat_(0.28, inf]\": 'str_cat_3',\n",
    "                   \"dlc_cat_(42.262, 176.129]\": 'dlc_cat_1',\n",
    "                   \"dlc_cat_(176.129, 200.9]\": 'dlc_cat_2',\n",
    "                   \"dlc_cat_(200.9, inf]\": 'dlc_cat_3',\n",
    "                   \"dltt_cat_(39.38, 327.85]\": 'dltt_cat_1',\n",
    "                   \"dltt_cat_(327.85, 876.617]\": 'dltt_cat_2',\n",
    "                   \"dltt_cat_(876.617, inf]\": 'dltt_cat_3',\n",
    "                   \"capex_cat_(7.447, 79.55]\": 'capex_cat_1',\n",
    "                   \"capex_cat_(79.55, 5451.0]\": 'capex_cat_2',\n",
    "                   \"capex_cat_(5451.0, inf]\": 'capex_cat_3',\n",
    "                   \"revenue_cat_(0.174, 1248.817]\": 'revenue_cat_1',\n",
    "                   \"revenue_cat_(1248.817, 4233.587]\": 'revenue_cat_2',\n",
    "                   \"revenue_cat_(4233.587, inf]\": 'revenue_cat_3',\n",
    "                   \"cce_cat_(5.619, 63.321]\": 'cce_cat_1',\n",
    "                   \"cce_cat_(63.321, inf]\": 'cce_cat_2',\n",
    "                   \"adv_cat_(0.3, 874.5]\": 'adv_cat_1',\n",
    "                   \"adv_cat_(874.5, inf]\": 'adv_cat_2'\n",
    "                   }, inplace=True)\n",
    "\n",
    "df_test.rename(columns={\"txt_cat_(-63.011, -34.811]\": 'txt_cat_1',\n",
    "                   \"txt_cat_(-34.811, 0.488]\": 'txt_cat_2',\n",
    "                   \"txt_cat_(0.488, 24.415]\": 'txt_cat_3',\n",
    "                   \"txt_cat_(24.415, 25.05]\": 'txt_cat_4',\n",
    "                   \"txt_cat_(25.05, 308.55]\": 'txt_cat_5',\n",
    "                   \"txt_cat_(308.55, 327.531]\": 'txt_cat_6',\n",
    "                   \"txt_cat_(327.531, inf]\": 'txt_cat_7',\n",
    "                   \"pi_cat_(-8975.0, -1.523]\": 'pi_cat_1',\n",
    "                   \"pi_cat_(-1.523, 157.119]\": 'pi_cat_2',\n",
    "                   \"pi_cat_(157.119, 465.9]\": 'pi_cat_3',\n",
    "                   \"pi_cat_(465.9, 7875.5]\": 'pi_cat_4',\n",
    "                   \"pi_cat_(7875.5, 8108.5]\": 'pi_cat_5',\n",
    "                   \"pi_cat_(8108.5, inf]\": 'pi_cat_6',\n",
    "                   \"str_cat_(0.0875, 0.192]\": 'str_cat_1',\n",
    "                   \"str_cat_(0.192, 0.28]\": 'str_cat_2',\n",
    "                   \"str_cat_(0.28, inf]\": 'str_cat_3',\n",
    "                   \"dlc_cat_(42.262, 176.129]\": 'dlc_cat_1',\n",
    "                   \"dlc_cat_(176.129, 200.9]\": 'dlc_cat_2',\n",
    "                   \"dlc_cat_(200.9, inf]\": 'dlc_cat_3',\n",
    "                   \"dltt_cat_(39.38, 327.85]\": 'dltt_cat_1',\n",
    "                   \"dltt_cat_(327.85, 876.617]\": 'dltt_cat_2',\n",
    "                   \"dltt_cat_(876.617, inf]\": 'dltt_cat_3',\n",
    "                   \"capex_cat_(7.447, 79.55]\": 'capex_cat_1',\n",
    "                   \"capex_cat_(79.55, 5451.0]\": 'capex_cat_2',\n",
    "                   \"capex_cat_(5451.0, inf]\": 'capex_cat_3',\n",
    "                   \"revenue_cat_(0.174, 1248.817]\": 'revenue_cat_1',\n",
    "                   \"revenue_cat_(1248.817, 4233.587]\": 'revenue_cat_2',\n",
    "                   \"revenue_cat_(4233.587, inf]\": 'revenue_cat_3',\n",
    "                   \"cce_cat_(5.619, 63.321]\": 'cce_cat_1',\n",
    "                   \"cce_cat_(63.321, inf]\": 'cce_cat_2',\n",
    "                   \"adv_cat_(0.3, 874.5]\": 'adv_cat_1',\n",
    "                   \"adv_cat_(874.5, inf]\": 'adv_cat_2'\n",
    "                   }, inplace=True)"
   ]
  },
  {
   "cell_type": "code",
   "execution_count": 178,
   "metadata": {},
   "outputs": [],
   "source": [
    "X_rf = pickle.load(open(\"C:/Users/Lenovo/Desktop/Machine Learning 1/project 2/random_forest_variables.pkl\", 'rb'))"
   ]
  },
  {
   "cell_type": "code",
   "execution_count": 179,
   "metadata": {},
   "outputs": [],
   "source": [
    "model = pickle.load(open(\"C:/Users/Lenovo/Desktop/Machine Learning 1/project 2/rf.sav\", 'rb'))"
   ]
  },
  {
   "cell_type": "code",
   "execution_count": 180,
   "metadata": {},
   "outputs": [],
   "source": [
    "y_pred = model.predict(df_test.loc[:,X_rf])"
   ]
  },
  {
   "cell_type": "code",
   "execution_count": 181,
   "metadata": {},
   "outputs": [],
   "source": [
    "y_true = df_test.etr.tolist()\n",
    "rmse = np.sqrt(mean_squared_error(y_true, y_pred))\n",
    "mae = mean_absolute_error(y_true, y_pred)\n",
    "rf_model_score = pd.DataFrame([rmse, mae]).T.rename(columns ={0:\"RMSE\", 1:\"MAE\"})\n",
    "rf_model_score.rename(index={0: 'rf_model'},inplace=True)"
   ]
  },
  {
   "cell_type": "code",
   "execution_count": 182,
   "metadata": {},
   "outputs": [
    {
     "data": {
      "text/html": [
       "<div>\n",
       "<style scoped>\n",
       "    .dataframe tbody tr th:only-of-type {\n",
       "        vertical-align: middle;\n",
       "    }\n",
       "\n",
       "    .dataframe tbody tr th {\n",
       "        vertical-align: top;\n",
       "    }\n",
       "\n",
       "    .dataframe thead th {\n",
       "        text-align: right;\n",
       "    }\n",
       "</style>\n",
       "<table border=\"1\" class=\"dataframe\">\n",
       "  <thead>\n",
       "    <tr style=\"text-align: right;\">\n",
       "      <th></th>\n",
       "      <th>RMSE</th>\n",
       "      <th>MAE</th>\n",
       "    </tr>\n",
       "  </thead>\n",
       "  <tbody>\n",
       "    <tr>\n",
       "      <th>rf_model</th>\n",
       "      <td>0.084037</td>\n",
       "      <td>0.05878</td>\n",
       "    </tr>\n",
       "  </tbody>\n",
       "</table>\n",
       "</div>"
      ],
      "text/plain": [
       "              RMSE      MAE\n",
       "rf_model  0.084037  0.05878"
      ]
     },
     "execution_count": 182,
     "metadata": {},
     "output_type": "execute_result"
    }
   ],
   "source": [
    "rf_model_score"
   ]
  },
  {
   "cell_type": "markdown",
   "metadata": {},
   "source": [
    "#### Decision Trees"
   ]
  },
  {
   "cell_type": "code",
   "execution_count": 195,
   "metadata": {},
   "outputs": [],
   "source": [
    "X_dt = pickle.load(open(\"C:/Users/Lenovo/Desktop/Machine Learning 1/project 2/decision_trees_variables.pkl\", 'rb'))"
   ]
  },
  {
   "cell_type": "code",
   "execution_count": 196,
   "metadata": {},
   "outputs": [],
   "source": [
    "model = pickle.load(open(\"C:/Users/Lenovo/Desktop/Machine Learning 1/project 2/dt.sav\", 'rb'))"
   ]
  },
  {
   "cell_type": "code",
   "execution_count": 197,
   "metadata": {},
   "outputs": [],
   "source": [
    "y_pred = model.predict(df_test.loc[:,X_dt])"
   ]
  },
  {
   "cell_type": "code",
   "execution_count": 198,
   "metadata": {},
   "outputs": [],
   "source": [
    "y_true = df_test.etr.tolist()\n",
    "rmse = np.sqrt(mean_squared_error(y_true, y_pred))\n",
    "mae = mean_absolute_error(y_true, y_pred)\n",
    "dt_model_score = pd.DataFrame([rmse, mae]).T.rename(columns ={0:\"RMSE\", 1:\"MAE\"})\n",
    "dt_model_score.rename(index={0: 'dt_model'},inplace=True)"
   ]
  },
  {
   "cell_type": "code",
   "execution_count": 199,
   "metadata": {},
   "outputs": [
    {
     "data": {
      "text/html": [
       "<div>\n",
       "<style scoped>\n",
       "    .dataframe tbody tr th:only-of-type {\n",
       "        vertical-align: middle;\n",
       "    }\n",
       "\n",
       "    .dataframe tbody tr th {\n",
       "        vertical-align: top;\n",
       "    }\n",
       "\n",
       "    .dataframe thead th {\n",
       "        text-align: right;\n",
       "    }\n",
       "</style>\n",
       "<table border=\"1\" class=\"dataframe\">\n",
       "  <thead>\n",
       "    <tr style=\"text-align: right;\">\n",
       "      <th></th>\n",
       "      <th>RMSE</th>\n",
       "      <th>MAE</th>\n",
       "    </tr>\n",
       "  </thead>\n",
       "  <tbody>\n",
       "    <tr>\n",
       "      <th>dt_model</th>\n",
       "      <td>0.173143</td>\n",
       "      <td>0.103566</td>\n",
       "    </tr>\n",
       "  </tbody>\n",
       "</table>\n",
       "</div>"
      ],
      "text/plain": [
       "              RMSE       MAE\n",
       "dt_model  0.173143  0.103566"
      ]
     },
     "execution_count": 199,
     "metadata": {},
     "output_type": "execute_result"
    }
   ],
   "source": [
    "dt_model_score"
   ]
  },
  {
   "cell_type": "markdown",
   "metadata": {},
   "source": [
    "#### Elastic Net CV"
   ]
  },
  {
   "cell_type": "code",
   "execution_count": 188,
   "metadata": {},
   "outputs": [],
   "source": [
    "X_ecv = pickle.load(open(\"C:/Users/Lenovo/Desktop/Machine Learning 1/project 2/elastic_net_cv_variables.pkl\", 'rb'))"
   ]
  },
  {
   "cell_type": "code",
   "execution_count": 189,
   "metadata": {},
   "outputs": [],
   "source": [
    "model = pickle.load(open(\"C:/Users/Lenovo/Desktop/Machine Learning 1/project 2/ecv.sav\", 'rb'))"
   ]
  },
  {
   "cell_type": "code",
   "execution_count": 190,
   "metadata": {},
   "outputs": [],
   "source": [
    "y_pred = model.predict(df_test.loc[:,X_ecv])"
   ]
  },
  {
   "cell_type": "code",
   "execution_count": 191,
   "metadata": {},
   "outputs": [],
   "source": [
    "y_true = df_test.etr.tolist()\n",
    "rmse = np.sqrt(mean_squared_error(y_true, y_pred))\n",
    "mae = mean_absolute_error(y_true, y_pred)\n",
    "ecv_model_score = pd.DataFrame([rmse, mae]).T.rename(columns ={0:\"RMSE\", 1:\"MAE\"})\n",
    "ecv_model_score.rename(index={0: 'ecv_model'},inplace=True)"
   ]
  },
  {
   "cell_type": "code",
   "execution_count": 192,
   "metadata": {},
   "outputs": [
    {
     "data": {
      "text/html": [
       "<div>\n",
       "<style scoped>\n",
       "    .dataframe tbody tr th:only-of-type {\n",
       "        vertical-align: middle;\n",
       "    }\n",
       "\n",
       "    .dataframe tbody tr th {\n",
       "        vertical-align: top;\n",
       "    }\n",
       "\n",
       "    .dataframe thead th {\n",
       "        text-align: right;\n",
       "    }\n",
       "</style>\n",
       "<table border=\"1\" class=\"dataframe\">\n",
       "  <thead>\n",
       "    <tr style=\"text-align: right;\">\n",
       "      <th></th>\n",
       "      <th>RMSE</th>\n",
       "      <th>MAE</th>\n",
       "    </tr>\n",
       "  </thead>\n",
       "  <tbody>\n",
       "    <tr>\n",
       "      <th>ecv_model</th>\n",
       "      <td>0.087037</td>\n",
       "      <td>0.062627</td>\n",
       "    </tr>\n",
       "  </tbody>\n",
       "</table>\n",
       "</div>"
      ],
      "text/plain": [
       "               RMSE       MAE\n",
       "ecv_model  0.087037  0.062627"
      ]
     },
     "execution_count": 192,
     "metadata": {},
     "output_type": "execute_result"
    }
   ],
   "source": [
    "ecv_model_score"
   ]
  },
  {
   "cell_type": "markdown",
   "metadata": {},
   "source": [
    "### Final comparison and summary"
   ]
  },
  {
   "cell_type": "code",
   "execution_count": 200,
   "metadata": {
    "ExecuteTime": {
     "end_time": "2020-06-03T01:07:56.569109Z",
     "start_time": "2020-06-03T01:07:56.563107Z"
    }
   },
   "outputs": [],
   "source": [
    "final_comparison = pd.concat([naive_model_score, ols_model_score, arma_model_score, ardl_model_score, knn_model_score, svr_model_score, rf_model_score, dt_model_score, ecv_model_score])"
   ]
  },
  {
   "cell_type": "code",
   "execution_count": 201,
   "metadata": {
    "ExecuteTime": {
     "end_time": "2020-06-03T01:07:56.581108Z",
     "start_time": "2020-06-03T01:07:56.571113Z"
    }
   },
   "outputs": [
    {
     "data": {
      "text/html": [
       "<div>\n",
       "<style scoped>\n",
       "    .dataframe tbody tr th:only-of-type {\n",
       "        vertical-align: middle;\n",
       "    }\n",
       "\n",
       "    .dataframe tbody tr th {\n",
       "        vertical-align: top;\n",
       "    }\n",
       "\n",
       "    .dataframe thead th {\n",
       "        text-align: right;\n",
       "    }\n",
       "</style>\n",
       "<table border=\"1\" class=\"dataframe\">\n",
       "  <thead>\n",
       "    <tr style=\"text-align: right;\">\n",
       "      <th></th>\n",
       "      <th>RMSE</th>\n",
       "      <th>MAE</th>\n",
       "    </tr>\n",
       "  </thead>\n",
       "  <tbody>\n",
       "    <tr>\n",
       "      <th>ardl_model</th>\n",
       "      <td>0.082121</td>\n",
       "      <td>0.058620</td>\n",
       "    </tr>\n",
       "    <tr>\n",
       "      <th>rf_model</th>\n",
       "      <td>0.084037</td>\n",
       "      <td>0.058780</td>\n",
       "    </tr>\n",
       "    <tr>\n",
       "      <th>svr_model</th>\n",
       "      <td>0.084485</td>\n",
       "      <td>0.061772</td>\n",
       "    </tr>\n",
       "    <tr>\n",
       "      <th>ols_model</th>\n",
       "      <td>0.085129</td>\n",
       "      <td>0.061867</td>\n",
       "    </tr>\n",
       "    <tr>\n",
       "      <th>ecv_model</th>\n",
       "      <td>0.087037</td>\n",
       "      <td>0.062627</td>\n",
       "    </tr>\n",
       "    <tr>\n",
       "      <th>knn_model</th>\n",
       "      <td>0.094528</td>\n",
       "      <td>0.067130</td>\n",
       "    </tr>\n",
       "    <tr>\n",
       "      <th>arma_model</th>\n",
       "      <td>0.115057</td>\n",
       "      <td>0.073336</td>\n",
       "    </tr>\n",
       "    <tr>\n",
       "      <th>naive_model</th>\n",
       "      <td>0.167860</td>\n",
       "      <td>0.091059</td>\n",
       "    </tr>\n",
       "    <tr>\n",
       "      <th>dt_model</th>\n",
       "      <td>0.173143</td>\n",
       "      <td>0.103566</td>\n",
       "    </tr>\n",
       "  </tbody>\n",
       "</table>\n",
       "</div>"
      ],
      "text/plain": [
       "                 RMSE       MAE\n",
       "ardl_model   0.082121  0.058620\n",
       "rf_model     0.084037  0.058780\n",
       "svr_model    0.084485  0.061772\n",
       "ols_model    0.085129  0.061867\n",
       "ecv_model    0.087037  0.062627\n",
       "knn_model    0.094528  0.067130\n",
       "arma_model   0.115057  0.073336\n",
       "naive_model  0.167860  0.091059\n",
       "dt_model     0.173143  0.103566"
      ]
     },
     "execution_count": 201,
     "metadata": {},
     "output_type": "execute_result"
    }
   ],
   "source": [
    "final_comparison.sort_values(\"RMSE\")"
   ]
  },
  {
   "cell_type": "code",
   "execution_count": 202,
   "metadata": {
    "ExecuteTime": {
     "end_time": "2020-06-03T01:07:56.589104Z",
     "start_time": "2020-06-03T01:07:56.583100Z"
    }
   },
   "outputs": [],
   "source": [
    "final_comparison.rename({\"knn_model\":\"KNN\", \"svr_model\":\"SVR\", \"ardl_model\":\"ARDL\", \"ols_model\":\"OLS\", \"arma_model\":\"ARMA\", \"naive_model\":\"NAIVE MODEL\", \"rf_model\":\"Random Forest\", \"dt_model\":\"Decision Trees\", \"ecv_model\":\"Elastic Net CV\"},inplace=True)"
   ]
  },
  {
   "cell_type": "code",
   "execution_count": 203,
   "metadata": {
    "ExecuteTime": {
     "end_time": "2020-06-03T01:07:56.596087Z",
     "start_time": "2020-06-03T01:07:56.590089Z"
    }
   },
   "outputs": [],
   "source": [
    "final_comparison = final_comparison.round(6)"
   ]
  },
  {
   "cell_type": "code",
   "execution_count": 204,
   "metadata": {
    "ExecuteTime": {
     "end_time": "2020-06-03T01:07:56.607080Z",
     "start_time": "2020-06-03T01:07:56.598086Z"
    }
   },
   "outputs": [
    {
     "data": {
      "text/html": [
       "<div>\n",
       "<style scoped>\n",
       "    .dataframe tbody tr th:only-of-type {\n",
       "        vertical-align: middle;\n",
       "    }\n",
       "\n",
       "    .dataframe tbody tr th {\n",
       "        vertical-align: top;\n",
       "    }\n",
       "\n",
       "    .dataframe thead th {\n",
       "        text-align: right;\n",
       "    }\n",
       "</style>\n",
       "<table border=\"1\" class=\"dataframe\">\n",
       "  <thead>\n",
       "    <tr style=\"text-align: right;\">\n",
       "      <th></th>\n",
       "      <th>RMSE</th>\n",
       "      <th>MAE</th>\n",
       "    </tr>\n",
       "  </thead>\n",
       "  <tbody>\n",
       "    <tr>\n",
       "      <th>NAIVE MODEL</th>\n",
       "      <td>0.167860</td>\n",
       "      <td>0.091059</td>\n",
       "    </tr>\n",
       "    <tr>\n",
       "      <th>OLS</th>\n",
       "      <td>0.085129</td>\n",
       "      <td>0.061867</td>\n",
       "    </tr>\n",
       "    <tr>\n",
       "      <th>ARMA</th>\n",
       "      <td>0.115057</td>\n",
       "      <td>0.073336</td>\n",
       "    </tr>\n",
       "    <tr>\n",
       "      <th>ARDL</th>\n",
       "      <td>0.082121</td>\n",
       "      <td>0.058620</td>\n",
       "    </tr>\n",
       "    <tr>\n",
       "      <th>KNN</th>\n",
       "      <td>0.094528</td>\n",
       "      <td>0.067130</td>\n",
       "    </tr>\n",
       "    <tr>\n",
       "      <th>SVR</th>\n",
       "      <td>0.084485</td>\n",
       "      <td>0.061772</td>\n",
       "    </tr>\n",
       "    <tr>\n",
       "      <th>Random Forest</th>\n",
       "      <td>0.084037</td>\n",
       "      <td>0.058780</td>\n",
       "    </tr>\n",
       "    <tr>\n",
       "      <th>Decision Trees</th>\n",
       "      <td>0.173143</td>\n",
       "      <td>0.103566</td>\n",
       "    </tr>\n",
       "    <tr>\n",
       "      <th>Elastic Net CV</th>\n",
       "      <td>0.087037</td>\n",
       "      <td>0.062627</td>\n",
       "    </tr>\n",
       "  </tbody>\n",
       "</table>\n",
       "</div>"
      ],
      "text/plain": [
       "                    RMSE       MAE\n",
       "NAIVE MODEL     0.167860  0.091059\n",
       "OLS             0.085129  0.061867\n",
       "ARMA            0.115057  0.073336\n",
       "ARDL            0.082121  0.058620\n",
       "KNN             0.094528  0.067130\n",
       "SVR             0.084485  0.061772\n",
       "Random Forest   0.084037  0.058780\n",
       "Decision Trees  0.173143  0.103566\n",
       "Elastic Net CV  0.087037  0.062627"
      ]
     },
     "execution_count": 204,
     "metadata": {},
     "output_type": "execute_result"
    }
   ],
   "source": [
    "final_comparison"
   ]
  },
  {
   "cell_type": "code",
   "execution_count": 205,
   "metadata": {
    "ExecuteTime": {
     "end_time": "2020-06-03T01:07:56.838534Z",
     "start_time": "2020-06-03T01:07:56.608078Z"
    }
   },
   "outputs": [
    {
     "data": {
      "text/plain": [
       "[]"
      ]
     },
     "execution_count": 205,
     "metadata": {},
     "output_type": "execute_result"
    },
    {
     "data": {
      "image/png": "[encoded data removed]",
      "text/plain": [
       "<Figure size 1500x700 with 1 Axes>"
      ]
     },
     "metadata": {},
     "output_type": "display_data"
    }
   ],
   "source": [
    "plt.style.use('ggplot')\n",
    "ax = final_comparison.plot(kind='bar', figsize=(15, 7), title=\"Final comparison of the models on TEST set\")\n",
    "ax.legend(fontsize=13)\n",
    "plt.tick_params(\n",
    "    axis='x',          # changes apply to the x-axis\n",
    "    which='both',      # both major and minor ticks are affected\n",
    "    bottom=True,      # ticks along the bottom edge are off\n",
    "    top=False,         # ticks along the top edge are off\n",
    "    labelbottom=True, ) # labels along the bottom edge are off\n",
    "ax.set_xticklabels(final_comparison.index, rotation=0, fontsize=12)\n",
    "ax.set_xlabel(\"MODELS\", fontsize=13)\n",
    "ax.plot()"
   ]
  },
  {
   "cell_type": "markdown",
   "metadata": {},
   "source": [
    "And the winner is: **ARDL**, but we see that Random Forest, ElasticNetCV, OLS and SVR were very close."
   ]
  },
  {
   "cell_type": "markdown",
   "metadata": {},
   "source": [
    "#### Final summary"
   ]
  },
  {
   "cell_type": "markdown",
   "metadata": {},
   "source": [
    "Based on final scores we see that: \n",
    " * naive model ($y_t = y_{t-1}$) have been  beaten by all models\n",
    " * ARMA approach without additional exogenous variables was better than naive model\n",
    " * OLS approach without additional time-related exogenous variables was better than naive model\n",
    " * when we combined both approaches: static exogenous variables + time-related exogenous variables in ARDL model we obtained better model!\n",
    " * SVR and KNN are weaker than econometric approaches\n",
    " * Random Forst and Elastic Net achieved comparable (slightly worse) results to ARDL.\n",
    " * Decision Trees rocks bottom perhaps due to overfitting and lack of generalization ability compared to other approaches. "
   ]
  },
  {
   "cell_type": "markdown",
   "metadata": {},
   "source": [
    "**To be honest in most cases in the business environment for sure we will chose ARDL: cheaper - computational time; fully explainable and has less variables!**"
   ]
  },
  {
   "cell_type": "markdown",
   "metadata": {},
   "source": []
  }
 ],
 "metadata": {
  "kernelspec": {
   "display_name": "Python 3 (ipykernel)",
   "language": "python",
   "name": "python3"
  },
  "language_info": {
   "codemirror_mode": {
    "name": "ipython",
    "version": 3
   },
   "file_extension": ".py",
   "mimetype": "text/x-python",
   "name": "python",
   "nbconvert_exporter": "python",
   "pygments_lexer": "ipython3",
   "version": "3.11.5"
  },
  "vscode": {
   "interpreter": {
    "hash": "bff0f7c864331389fa2ce0c5d534e26d0bfdbc8f9c927a5938dc8a191fde6d96"
   }
  }
 },
 "nbformat": 4,
 "nbformat_minor": 4
}
